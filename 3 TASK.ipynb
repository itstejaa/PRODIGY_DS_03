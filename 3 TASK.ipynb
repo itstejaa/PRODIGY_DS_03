{
 "cells": [
  {
   "cell_type": "code",
   "execution_count": 54,
   "id": "03b2e703-0eac-4d9e-a5ea-106c3989844f",
   "metadata": {},
   "outputs": [],
   "source": [
    "import numpy as np\n",
    "import pandas as pd\n",
    "from sklearn.model_selection import train_test_split\n",
    "from sklearn.tree import DecisionTreeClassifier\n",
    "from sklearn.metrics import accuracy_score\n",
    "from sklearn.preprocessing import LabelEncoder"
   ]
  },
  {
   "cell_type": "code",
   "execution_count": 55,
   "id": "83078e79-623e-4fae-954c-7660733ac41a",
   "metadata": {},
   "outputs": [],
   "source": [
    "df = pd.read_csv(r'C:\\Users\\Teja\\Documents\\teja intern prodigyy\\TASK 3\\bank-full.csv', sep=';') "
   ]
  },
  {
   "cell_type": "code",
   "execution_count": 56,
   "id": "0f462db7-8e76-4bda-8879-f462236928f3",
   "metadata": {},
   "outputs": [],
   "source": [
    "target_le = LabelEncoder() "
   ]
  },
  {
   "cell_type": "code",
   "execution_count": 57,
   "id": "59bb2c7d-1587-45d2-a46f-280bd1639d37",
   "metadata": {},
   "outputs": [],
   "source": [
    "df['y'] = target_le.fit_transform(df['y']) "
   ]
  },
  {
   "cell_type": "code",
   "execution_count": 58,
   "id": "b1ff6e53-419e-4d94-9f16-420deff4b958",
   "metadata": {},
   "outputs": [],
   "source": [
    "feature_le = LabelEncoder()\n",
    "for column in df.select_dtypes(include=['object']).columns:\n",
    "    df[column] = feature_le.fit_transform(df[column]) "
   ]
  },
  {
   "cell_type": "code",
   "execution_count": 59,
   "id": "780ad403-169a-4d96-b0c7-1f3e0312f679",
   "metadata": {},
   "outputs": [],
   "source": [
    "X = df.drop('y', axis=1)\n",
    "y = df['y'] "
   ]
  },
  {
   "cell_type": "code",
   "execution_count": 60,
   "id": "bf1485e9-e3c2-45fe-aa3d-cc4292f3b0ec",
   "metadata": {},
   "outputs": [],
   "source": [
    "X_train, X_test, y_train, y_test = train_test_split(X, y, test_size=0.2, random_state=42) "
   ]
  },
  {
   "cell_type": "code",
   "execution_count": 61,
   "id": "55932b92-e02c-4daf-99c1-bca9e51573e8",
   "metadata": {},
   "outputs": [
    {
     "data": {
      "text/html": [
       "<style>#sk-container-id-4 {color: black;}#sk-container-id-4 pre{padding: 0;}#sk-container-id-4 div.sk-toggleable {background-color: white;}#sk-container-id-4 label.sk-toggleable__label {cursor: pointer;display: block;width: 100%;margin-bottom: 0;padding: 0.3em;box-sizing: border-box;text-align: center;}#sk-container-id-4 label.sk-toggleable__label-arrow:before {content: \"▸\";float: left;margin-right: 0.25em;color: #696969;}#sk-container-id-4 label.sk-toggleable__label-arrow:hover:before {color: black;}#sk-container-id-4 div.sk-estimator:hover label.sk-toggleable__label-arrow:before {color: black;}#sk-container-id-4 div.sk-toggleable__content {max-height: 0;max-width: 0;overflow: hidden;text-align: left;background-color: #f0f8ff;}#sk-container-id-4 div.sk-toggleable__content pre {margin: 0.2em;color: black;border-radius: 0.25em;background-color: #f0f8ff;}#sk-container-id-4 input.sk-toggleable__control:checked~div.sk-toggleable__content {max-height: 200px;max-width: 100%;overflow: auto;}#sk-container-id-4 input.sk-toggleable__control:checked~label.sk-toggleable__label-arrow:before {content: \"▾\";}#sk-container-id-4 div.sk-estimator input.sk-toggleable__control:checked~label.sk-toggleable__label {background-color: #d4ebff;}#sk-container-id-4 div.sk-label input.sk-toggleable__control:checked~label.sk-toggleable__label {background-color: #d4ebff;}#sk-container-id-4 input.sk-hidden--visually {border: 0;clip: rect(1px 1px 1px 1px);clip: rect(1px, 1px, 1px, 1px);height: 1px;margin: -1px;overflow: hidden;padding: 0;position: absolute;width: 1px;}#sk-container-id-4 div.sk-estimator {font-family: monospace;background-color: #f0f8ff;border: 1px dotted black;border-radius: 0.25em;box-sizing: border-box;margin-bottom: 0.5em;}#sk-container-id-4 div.sk-estimator:hover {background-color: #d4ebff;}#sk-container-id-4 div.sk-parallel-item::after {content: \"\";width: 100%;border-bottom: 1px solid gray;flex-grow: 1;}#sk-container-id-4 div.sk-label:hover label.sk-toggleable__label {background-color: #d4ebff;}#sk-container-id-4 div.sk-serial::before {content: \"\";position: absolute;border-left: 1px solid gray;box-sizing: border-box;top: 0;bottom: 0;left: 50%;z-index: 0;}#sk-container-id-4 div.sk-serial {display: flex;flex-direction: column;align-items: center;background-color: white;padding-right: 0.2em;padding-left: 0.2em;position: relative;}#sk-container-id-4 div.sk-item {position: relative;z-index: 1;}#sk-container-id-4 div.sk-parallel {display: flex;align-items: stretch;justify-content: center;background-color: white;position: relative;}#sk-container-id-4 div.sk-item::before, #sk-container-id-4 div.sk-parallel-item::before {content: \"\";position: absolute;border-left: 1px solid gray;box-sizing: border-box;top: 0;bottom: 0;left: 50%;z-index: -1;}#sk-container-id-4 div.sk-parallel-item {display: flex;flex-direction: column;z-index: 1;position: relative;background-color: white;}#sk-container-id-4 div.sk-parallel-item:first-child::after {align-self: flex-end;width: 50%;}#sk-container-id-4 div.sk-parallel-item:last-child::after {align-self: flex-start;width: 50%;}#sk-container-id-4 div.sk-parallel-item:only-child::after {width: 0;}#sk-container-id-4 div.sk-dashed-wrapped {border: 1px dashed gray;margin: 0 0.4em 0.5em 0.4em;box-sizing: border-box;padding-bottom: 0.4em;background-color: white;}#sk-container-id-4 div.sk-label label {font-family: monospace;font-weight: bold;display: inline-block;line-height: 1.2em;}#sk-container-id-4 div.sk-label-container {text-align: center;}#sk-container-id-4 div.sk-container {/* jupyter's `normalize.less` sets `[hidden] { display: none; }` but bootstrap.min.css set `[hidden] { display: none !important; }` so we also need the `!important` here to be able to override the default hidden behavior on the sphinx rendered scikit-learn.org. See: https://github.com/scikit-learn/scikit-learn/issues/21755 */display: inline-block !important;position: relative;}#sk-container-id-4 div.sk-text-repr-fallback {display: none;}</style><div id=\"sk-container-id-4\" class=\"sk-top-container\"><div class=\"sk-text-repr-fallback\"><pre>DecisionTreeClassifier(random_state=42)</pre><b>In a Jupyter environment, please rerun this cell to show the HTML representation or trust the notebook. <br />On GitHub, the HTML representation is unable to render, please try loading this page with nbviewer.org.</b></div><div class=\"sk-container\" hidden><div class=\"sk-item\"><div class=\"sk-estimator sk-toggleable\"><input class=\"sk-toggleable__control sk-hidden--visually\" id=\"sk-estimator-id-4\" type=\"checkbox\" checked><label for=\"sk-estimator-id-4\" class=\"sk-toggleable__label sk-toggleable__label-arrow\">DecisionTreeClassifier</label><div class=\"sk-toggleable__content\"><pre>DecisionTreeClassifier(random_state=42)</pre></div></div></div></div></div>"
      ],
      "text/plain": [
       "DecisionTreeClassifier(random_state=42)"
      ]
     },
     "execution_count": 61,
     "metadata": {},
     "output_type": "execute_result"
    }
   ],
   "source": [
    "clf = DecisionTreeClassifier(random_state=42)\n",
    "clf.fit(X_train, y_train) "
   ]
  },
  {
   "cell_type": "code",
   "execution_count": 62,
   "id": "c49c0889-dc59-4d77-8df3-bd8a657634ea",
   "metadata": {},
   "outputs": [],
   "source": [
    "y_pred = clf.predict(X_test)\n",
    "accuracy = accuracy_score(y_test, y_pred) "
   ]
  },
  {
   "cell_type": "code",
   "execution_count": 63,
   "id": "693aaf9b-f64b-4b13-bccf-21efaeca2504",
   "metadata": {},
   "outputs": [
    {
     "name": "stdout",
     "output_type": "stream",
     "text": [
      "Accuracy: 0.87\n"
     ]
    }
   ],
   "source": [
    "print(f\"Accuracy: {accuracy:.2f}\") "
   ]
  },
  {
   "cell_type": "code",
   "execution_count": 64,
   "id": "7a3a70d9-d689-4539-8bd4-792c2f051357",
   "metadata": {},
   "outputs": [
    {
     "name": "stdout",
     "output_type": "stream",
     "text": [
      "Feature importance:\n",
      " duration     0.294289\n",
      "balance      0.110755\n",
      "age          0.104776\n",
      "month        0.103624\n",
      "day          0.083587\n",
      "pdays        0.054215\n",
      "poutcome     0.049498\n",
      "job          0.048486\n",
      "campaign     0.034509\n",
      "housing      0.024067\n",
      "marital      0.022507\n",
      "education    0.021755\n",
      "contact      0.021559\n",
      "previous     0.014781\n",
      "loan         0.010055\n",
      "default      0.001541\n",
      "dtype: float64\n"
     ]
    }
   ],
   "source": [
    "feature_importance = pd.Series(clf.feature_importances_, index=X.columns).sort_values(ascending=False)\n",
    "print(\"Feature importance:\\n\", feature_importance) "
   ]
  },
  {
   "cell_type": "code",
   "execution_count": 65,
   "id": "31217297-2fed-443c-b341-34bb339806af",
   "metadata": {},
   "outputs": [],
   "source": [
    "customer_data = {\n",
    "    \"age\": 30,\n",
    "    \"job\": \"technician\",\n",
    "    \"marital\": \"married\",\n",
    "    \"education\": \"secondary\",\n",
    "    \"default\": \"no\",\n",
    "    \"balance\": 500,\n",
    "    \"housing\": \"yes\",\n",
    "    \"loan\": \"no\",\n",
    "    \"contact\": \"cellular\",\n",
    "    \"day\": 15,\n",
    "    \"month\": \"may\",\n",
    "    \"duration\": 200,\n",
    "    \"campaign\": 1,\n",
    "    \"pdays\": -1,\n",
    "    \"previous\": 0,\n",
    "    \"poutcome\": \"unknown\"\n",
    "} "
   ]
  },
  {
   "cell_type": "code",
   "execution_count": 66,
   "id": "d2137cac-3cd9-4c60-ac3f-24c03462c7f8",
   "metadata": {},
   "outputs": [],
   "source": [
    "customer_df = pd.DataFrame([customer_data]) "
   ]
  },
  {
   "cell_type": "code",
   "execution_count": 67,
   "id": "2643361b-f645-4d72-936e-53b327b865d5",
   "metadata": {},
   "outputs": [
    {
     "name": "stdout",
     "output_type": "stream",
     "text": [
      "Prediction for the customer: yes\n"
     ]
    }
   ],
   "source": [
    "\n",
    "\n",
    "for column in customer_df.select_dtypes(include=['object']).columns:\n",
    "    \n",
    "    unique_values = customer_df[column].unique()\n",
    "    new_labels = [val for val in unique_values if val not in feature_le.classes_]\n",
    "\n",
    "    if new_labels:\n",
    "     \n",
    "        feature_le.classes_ = np.append(feature_le.classes_, new_labels)\n",
    "    \n",
    "  \n",
    "    customer_df[column] = feature_le.transform(customer_df[column])\n",
    "\n",
    "customer_prediction = clf.predict(customer_df)\n",
    "customer_prediction_label = target_le.inverse_transform(customer_prediction)\n",
    "\n",
    "print(f\"Prediction for the customer: {customer_prediction_label[0]}\")\n"
   ]
  },
  {
   "cell_type": "code",
   "execution_count": 68,
   "id": "86a1a055-963c-40e0-a021-1c02999f927b",
   "metadata": {},
   "outputs": [
    {
     "name": "stdout",
     "output_type": "stream",
     "text": [
      "Prediction for the customer: yes\n"
     ]
    }
   ],
   "source": [
    "customer_prediction = clf.predict(customer_df)\n",
    "customer_prediction_label = target_le.inverse_transform(customer_prediction)\n",
    "\n",
    "print(f\"Prediction for the customer: {customer_prediction_label[0]}\") "
   ]
  },
  {
   "cell_type": "code",
   "execution_count": null,
   "id": "ae5b499a-8ee8-47af-8a13-f8b54d6f26f9",
   "metadata": {},
   "outputs": [],
   "source": []
  }
 ],
 "metadata": {
  "kernelspec": {
   "display_name": "Python 3 (ipykernel)",
   "language": "python",
   "name": "python3"
  },
  "language_info": {
   "codemirror_mode": {
    "name": "ipython",
    "version": 3
   },
   "file_extension": ".py",
   "mimetype": "text/x-python",
   "name": "python",
   "nbconvert_exporter": "python",
   "pygments_lexer": "ipython3",
   "version": "3.11.5"
  }
 },
 "nbformat": 4,
 "nbformat_minor": 5
}
